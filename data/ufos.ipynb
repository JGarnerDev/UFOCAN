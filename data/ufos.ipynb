{
 "cells": [
  {
   "cell_type": "code",
   "execution_count": 1,
   "metadata": {
    "tags": []
   },
   "outputs": [],
   "source": [
    "#import sys\n",
    "# !{sys.executable} -m pip install pymysql\n",
    "# !{sys.executable} -m pip install ratelimiter\n",
    "# !{sys.executable} -m pip install sqlalchemy\n",
    "\n",
    "import pandas as pd\n",
    "import requests\n",
    "from ratelimiter import RateLimiter\n",
    "from Location import Location, LocationTools\n"
   ]
  },
  {
   "cell_type": "code",
   "execution_count": 5,
   "metadata": {},
   "outputs": [
    {
     "output_type": "execute_result",
     "data": {
      "text/plain": "                 Date                                     City State Country  \\\n61   10/10/1994 23:00  toronto (greater toronto area) (canada)    on      ca   \n80   10/10/1998 22:30                   st. john&#39s (canada)    nf      ca   \n95   10/10/2000 07:30                        victoria (canada)    bc      ca   \n104  10/10/2001 20:10                       vancouver (canada)    bc      ca   \n114  10/10/2002 19:45                        victoria (canada)    bc      ca   \n\n         Type Seconds          Duration  \\\n61     sphere    3600           ~1 hour   \n80        egg    7200           2 hours   \n95   cylinder      30         30seconds   \n104     other     300        +5 minutes   \n114   unknown     120  2 minutes approx   \n\n                                           Description  Date added        Lat  \\\n61                                  Large rusty sphere    7/3/2013  43.666667   \n80   Started off as 3 points of intense yellow ligh...   12/2/2000      47.55   \n95                               Smooth Shiny Cylinder   12/2/2000  46.216667   \n104  I observed an green object significantly above...   5/12/2011      49.25   \n114  bright white light with black outline around i...  10/15/2002  46.216667   \n\n            Lon  \n61   -79.416667  \n80   -52.666667  \n95   -63.483333  \n104 -123.133333  \n114  -63.483333  ",
      "text/html": "<div>\n<style scoped>\n    .dataframe tbody tr th:only-of-type {\n        vertical-align: middle;\n    }\n\n    .dataframe tbody tr th {\n        vertical-align: top;\n    }\n\n    .dataframe thead th {\n        text-align: right;\n    }\n</style>\n<table border=\"1\" class=\"dataframe\">\n  <thead>\n    <tr style=\"text-align: right;\">\n      <th></th>\n      <th>Date</th>\n      <th>City</th>\n      <th>State</th>\n      <th>Country</th>\n      <th>Type</th>\n      <th>Seconds</th>\n      <th>Duration</th>\n      <th>Description</th>\n      <th>Date added</th>\n      <th>Lat</th>\n      <th>Lon</th>\n    </tr>\n  </thead>\n  <tbody>\n    <tr>\n      <th>61</th>\n      <td>10/10/1994 23:00</td>\n      <td>toronto (greater toronto area) (canada)</td>\n      <td>on</td>\n      <td>ca</td>\n      <td>sphere</td>\n      <td>3600</td>\n      <td>~1 hour</td>\n      <td>Large rusty sphere</td>\n      <td>7/3/2013</td>\n      <td>43.666667</td>\n      <td>-79.416667</td>\n    </tr>\n    <tr>\n      <th>80</th>\n      <td>10/10/1998 22:30</td>\n      <td>st. john&amp;#39s (canada)</td>\n      <td>nf</td>\n      <td>ca</td>\n      <td>egg</td>\n      <td>7200</td>\n      <td>2 hours</td>\n      <td>Started off as 3 points of intense yellow ligh...</td>\n      <td>12/2/2000</td>\n      <td>47.55</td>\n      <td>-52.666667</td>\n    </tr>\n    <tr>\n      <th>95</th>\n      <td>10/10/2000 07:30</td>\n      <td>victoria (canada)</td>\n      <td>bc</td>\n      <td>ca</td>\n      <td>cylinder</td>\n      <td>30</td>\n      <td>30seconds</td>\n      <td>Smooth Shiny Cylinder</td>\n      <td>12/2/2000</td>\n      <td>46.216667</td>\n      <td>-63.483333</td>\n    </tr>\n    <tr>\n      <th>104</th>\n      <td>10/10/2001 20:10</td>\n      <td>vancouver (canada)</td>\n      <td>bc</td>\n      <td>ca</td>\n      <td>other</td>\n      <td>300</td>\n      <td>+5 minutes</td>\n      <td>I observed an green object significantly above...</td>\n      <td>5/12/2011</td>\n      <td>49.25</td>\n      <td>-123.133333</td>\n    </tr>\n    <tr>\n      <th>114</th>\n      <td>10/10/2002 19:45</td>\n      <td>victoria (canada)</td>\n      <td>bc</td>\n      <td>ca</td>\n      <td>unknown</td>\n      <td>120</td>\n      <td>2 minutes approx</td>\n      <td>bright white light with black outline around i...</td>\n      <td>10/15/2002</td>\n      <td>46.216667</td>\n      <td>-63.483333</td>\n    </tr>\n  </tbody>\n</table>\n</div>"
     },
     "metadata": {},
     "execution_count": 5
    }
   ],
   "source": [
    "ufos = pd.read_csv(r'/Users/kellan/Downloads/ufo-reports-master/csv-data/ufo-scrubbed-geocoded-time-standardized.csv')\n",
    "ufos_canada = ufos[ufos['Country'] == 'ca']\n",
    "\n",
    "ufos_canada.head()"
   ]
  },
  {
   "cell_type": "markdown",
   "metadata": {},
   "source": [
    "As we can see, there are some problems with the location data. Let's delete the columns and recalculate"
   ]
  },
  {
   "cell_type": "code",
   "execution_count": 6,
   "metadata": {},
   "outputs": [],
   "source": [
    "ufos_canada.State.unique()\n",
    "ufos_canada.drop(columns=['State', 'City', 'Country', 'Date added'], inplace =True)"
   ]
  },
  {
   "cell_type": "markdown",
   "metadata": {},
   "source": [
    "Now, let's call the api using Location, and calculate our columns. The reverse geocoding is done through the locationiq.com API"
   ]
  },
  {
   "cell_type": "code",
   "execution_count": null,
   "metadata": {
    "tags": []
   },
   "outputs": [],
   "source": [
    "\n",
    "location_info = Location.Location()\n",
    "\n",
    "with open(\"token.txt\") as f:\n",
    "    private_token = f.read()\n",
    "\n",
    "location_columns = ['full_address', 'neighbourhood', 'city', 'province', 'country_code', 'country']\n",
    "for col in location_columns:\n",
    "    ufos_canada[col] = ''\n",
    "\n",
    "ufos_canada['location_data_raw'] = ufos_canada.apply(lambda x: Location.make_request(x['Lat'], \n",
    "                                                                                     x['Lon'], \n",
    "                                                                                     private_token).return_raw(), axis=1)\n",
    "\n",
    "location_columns = ['full_address', 'neighbourhood', 'city', 'province', 'country_code', 'country']\n",
    "ufos_canada[location_columns] = ufos_canada.apply(lambda x: Location.get_all(x['location_data_raw']), axis=1)\n",
    "ufos_canada.reset_index(inplace=True, drop=True)\n",
    "ufos_canada.columns = ufos_canada.columns.str.title().str.strip()\n",
    "\n",
    "ufos_canada.to_csv('canada_ufos_corrected.csv', index=False)"
   ]
  },
  {
   "cell_type": "code",
   "execution_count": null,
   "metadata": {
    "tags": []
   },
   "outputs": [],
   "source": [
    "ufos_canada"
   ]
  },
  {
   "cell_type": "markdown",
   "metadata": {},
   "source": [
    "Next, we now will write the full dataset to a table, before breaking up the data set into separate provinces"
   ]
  },
  {
   "cell_type": "code",
   "execution_count": null,
   "metadata": {
    "tags": []
   },
   "outputs": [],
   "source": []
  },
  {
   "cell_type": "code",
   "execution_count": null,
   "metadata": {},
   "outputs": [],
   "source": []
  }
 ],
 "metadata": {
  "language_info": {
   "codemirror_mode": {
    "name": "ipython",
    "version": 3
   },
   "file_extension": ".py",
   "mimetype": "text/x-python",
   "name": "python",
   "nbconvert_exporter": "python",
   "pygments_lexer": "ipython3",
   "version": "3.7.2-final"
  },
  "orig_nbformat": 2,
  "kernelspec": {
   "name": "python37264bitdf1f4daf0838403fb8bd4545a2b1d4ea",
   "display_name": "Python 3.7.2 64-bit"
  }
 },
 "nbformat": 4,
 "nbformat_minor": 2
}