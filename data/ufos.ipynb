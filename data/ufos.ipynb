{
 "cells": [
  {
   "cell_type": "code",
   "execution_count": 10,
   "metadata": {
    "tags": []
   },
   "outputs": [],
   "source": [
    "#import sys\n",
    "# !{sys.executable} -m pip install pymysql\n",
    "# !{sys.executable} -m pip install ratelimiter\n",
    "# !{sys.executable} -m pip install sqlalchemy\n",
    "\n",
    "import pandas as pd\n",
    "import requests\n",
    "from ratelimiter import RateLimiter\n",
    "from Location import Location\n"
   ]
  },
  {
   "cell_type": "code",
   "execution_count": null,
   "metadata": {},
   "outputs": [],
   "source": [
    "ufos = pd.read_csv(r'/Users/kellan/Downloads/ufo-reports-master/csv-data/ufo-scrubbed-geocoded-time-standardized.csv')\n",
    "ufos_canada = ufos[ufos['Country'] == 'ca']\n",
    "\n",
    "ufos_canada.head()"
   ]
  },
  {
   "cell_type": "markdown",
   "metadata": {},
   "source": [
    "As we can see, there are some problems with the location data. Let's delete the columns and recalculate"
   ]
  },
  {
   "cell_type": "code",
   "execution_count": null,
   "metadata": {},
   "outputs": [],
   "source": [
    "ufos_canada.State.unique()\n",
    "ufos_canada.drop(columns=['State', 'City', 'Country', 'Date added'], inplace =True)"
   ]
  },
  {
   "cell_type": "markdown",
   "metadata": {},
   "source": [
    "Now, let's call the api using Location, and calculate our columns. The reverse geocoding is done through the locationiq.com API"
   ]
  },
  {
   "cell_type": "code",
   "execution_count": null,
   "metadata": {
    "tags": []
   },
   "outputs": [],
   "source": [
    "\n",
    "location_info = Location.Location()\n",
    "\n",
    "with open(\"token.txt\") as f:\n",
    "    private_token = f.read()\n",
    "\n",
    "location_columns = ['full_address', 'neighbourhood', 'city', 'province', 'country_code', 'country']\n",
    "for col in location_columns:\n",
    "    ufos_canada[col] = ''\n",
    "\n",
    "ufos_canada['location_data_raw'] = ufos_canada.apply(lambda x: Location.make_request(x['Lat'], \n",
    "                                                                                     x['Lon'], \n",
    "                                                                                     private_token).return_raw(), axis=1)\n",
    "\n",
    "location_columns = ['full_address', 'neighbourhood', 'city', 'province', 'country_code', 'country']\n",
    "ufos_canada[location_columns] = ufos_canada.apply(lambda x: Location.get_all(x['location_data_raw']), axis=1)\n",
    "ufos_canada.reset_index(inplace=True, drop=True)\n",
    "ufos_canada.columns = ufos_canada.columns.str.title().str.strip()\n",
    "\n",
    "ufos_canada.to_csv('canada_ufos_corrected.csv', index=False)"
   ]
  },
  {
   "cell_type": "code",
   "execution_count": null,
   "metadata": {
    "tags": []
   },
   "outputs": [],
   "source": [
    "ufos_canada"
   ]
  },
  {
   "cell_type": "markdown",
   "metadata": {},
   "source": [
    "Next, we now will write the full dataset to a table, before breaking up the data set into separate provinces"
   ]
  },
  {
   "cell_type": "code",
   "execution_count": null,
   "metadata": {
    "tags": []
   },
   "outputs": [],
   "source": []
  },
  {
   "cell_type": "code",
   "execution_count": null,
   "metadata": {},
   "outputs": [],
   "source": []
  }
 ],
 "metadata": {
  "language_info": {
   "codemirror_mode": {
    "name": "ipython",
    "version": 3
   },
   "file_extension": ".py",
   "mimetype": "text/x-python",
   "name": "python",
   "nbconvert_exporter": "python",
   "pygments_lexer": "ipython3",
   "version": "3.7.2-final"
  },
  "orig_nbformat": 2,
  "kernelspec": {
   "name": "python37264bitdf1f4daf0838403fb8bd4545a2b1d4ea",
   "display_name": "Python 3.7.2 64-bit"
  }
 },
 "nbformat": 4,
 "nbformat_minor": 2
}